{
 "cells": [
  {
   "cell_type": "code",
   "execution_count": 18,
   "id": "e384f8dd",
   "metadata": {},
   "outputs": [],
   "source": [
    "# load dataset\n",
    "from tensorflow.keras.datasets import fashion_mnist\n",
    "(train_X,train_Y), (test_X,test_Y) = fashion_mnist.load_data()"
   ]
  },
  {
   "cell_type": "code",
   "execution_count": 19,
   "id": "70a1e35b",
   "metadata": {},
   "outputs": [
    {
     "name": "stdout",
     "output_type": "stream",
     "text": [
      "Training data shape :  (60000, 28, 28) (60000,)\n",
      "Testing data shape :  (10000, 28, 28) (10000,)\n"
     ]
    }
   ],
   "source": [
    "# Analyze the Data\n",
    "import numpy as np\n",
    "from tensorflow.keras.utils import to_categorical\n",
    "import matplotlib.pyplot as plt\n",
    "\n",
    "print('Training data shape : ', train_X.shape, train_Y.shape)\n",
    "\n",
    "print('Testing data shape : ', test_X.shape, test_Y.shape)"
   ]
  },
  {
   "cell_type": "code",
   "execution_count": 20,
   "id": "5a9d62f1",
   "metadata": {},
   "outputs": [
    {
     "name": "stdout",
     "output_type": "stream",
     "text": [
      "Total number of outputs :  10\n",
      "Output classes :  [0 1 2 3 4 5 6 7 8 9]\n"
     ]
    }
   ],
   "source": [
    "# Find the unique numbers from the train labels\n",
    "classes = np.unique(train_Y)\n",
    "nClasses = len(classes)\n",
    "print('Total number of outputs : ', nClasses)\n",
    "print('Output classes : ', classes)"
   ]
  },
  {
   "attachments": {},
   "cell_type": "markdown",
   "id": "61d5d17e",
   "metadata": {},
   "source": [
    "In the following piece of code we observe that we are going to visualize the data set as an image."
   ]
  },
  {
   "cell_type": "code",
   "execution_count": 21,
   "id": "257f6d84",
   "metadata": {},
   "outputs": [
    {
     "data": {
      "text/plain": [
       "Text(0.5, 1.0, 'Ground Truth : 9')"
      ]
     },
     "execution_count": 21,
     "metadata": {},
     "output_type": "execute_result"
    },
    {
     "data": {
      "image/png": "[encoded data removed]",
      "text/plain": [
       "<Figure size 360x360 with 2 Axes>"
      ]
     },
     "metadata": {
      "needs_background": "light"
     },
     "output_type": "display_data"
    }
   ],
   "source": [
    "plt.figure(figsize=[5,5])\n",
    "\n",
    "# Display the first image in training data\n",
    "plt.subplot(121)\n",
    "plt.imshow(train_X[0,:,:], cmap='gray')\n",
    "plt.title(\"Ground Truth : {}\".format(train_Y[0]))\n",
    "\n",
    "# Display the first image in testing data\n",
    "plt.subplot(122)\n",
    "plt.imshow(test_X[0,:,:], cmap='gray')\n",
    "plt.title(\"Ground Truth : {}\".format(test_Y[0]))"
   ]
  },
  {
   "attachments": {},
   "cell_type": "markdown",
   "id": "afebd115",
   "metadata": {},
   "source": [
    "Now we are going to reshape the dataset to fit with the CNN input. We use a single channel because we are dealing with grey scale images."
   ]
  },
  {
   "cell_type": "code",
   "execution_count": 22,
   "id": "8ed01e8f",
   "metadata": {},
   "outputs": [
    {
     "data": {
      "text/plain": [
       "((60000, 28, 28, 1), (10000, 28, 28, 1))"
      ]
     },
     "execution_count": 22,
     "metadata": {},
     "output_type": "execute_result"
    }
   ],
   "source": [
    "train_X = train_X.reshape(-1, 28,28, 1)\n",
    "test_X = test_X.reshape(-1, 28,28, 1)\n",
    "train_X.shape, test_X.shape"
   ]
  },
  {
   "cell_type": "code",
   "execution_count": 23,
   "id": "e1a057d8",
   "metadata": {},
   "outputs": [],
   "source": [
    "train_X = train_X.astype('float32')\n",
    "test_X = test_X.astype('float32')\n",
    "train_X = train_X / 255.\n",
    "test_X = test_X / 255."
   ]
  },
  {
   "cell_type": "code",
   "execution_count": 24,
   "id": "f74047e0",
   "metadata": {},
   "outputs": [
    {
     "name": "stdout",
     "output_type": "stream",
     "text": [
      "Original label: 9\n",
      "After conversion to one-hot: [0. 0. 0. 0. 0. 0. 0. 0. 0. 1.]\n"
     ]
    }
   ],
   "source": [
    "# Change the labels from categorical to one-hot encoding\n",
    "train_Y_one_hot = to_categorical(train_Y)\n",
    "test_Y_one_hot = to_categorical(test_Y)\n",
    "\n",
    "# Display the change for category label using one-hot encoding\n",
    "print('Original label:', train_Y[0])\n",
    "print('After conversion to one-hot:', train_Y_one_hot[0])"
   ]
  },
  {
   "cell_type": "code",
   "execution_count": 25,
   "id": "82af9c4d",
   "metadata": {},
   "outputs": [],
   "source": [
    "from sklearn.model_selection import train_test_split\n",
    "train_X,valid_X,train_label,valid_label = train_test_split(train_X, train_Y_one_hot, test_size=0.2, random_state=13)"
   ]
  },
  {
   "cell_type": "code",
   "execution_count": 37,
   "id": "871de416",
   "metadata": {},
   "outputs": [],
   "source": [
    "from tensorflow.keras.models import Sequential,Model\n",
    "from tensorflow.keras.layers import Dense, Dropout, Flatten, Input\n",
    "from tensorflow.keras.layers import Conv2D, MaxPooling2D, LeakyReLU\n",
    "from tensorflow.keras.layers import BatchNormalization\n",
    "from tensorflow.keras.losses import categorical_crossentropy\n",
    "from tensorflow.keras.optimizers import Adam"
   ]
  },
  {
   "cell_type": "code",
   "execution_count": 38,
   "id": "fd334a2a",
   "metadata": {},
   "outputs": [],
   "source": [
    "batch_size = 64\n",
    "epochs = 20\n",
    "num_classes = 10"
   ]
  },
  {
   "cell_type": "code",
   "execution_count": 39,
   "id": "2332bcef",
   "metadata": {},
   "outputs": [],
   "source": [
    "fashion_model = Sequential()\n",
    "fashion_model.add(Conv2D(32, kernel_size=(3, 3),activation='linear',input_shape=(28,28,1),padding='same'))\n",
    "fashion_model.add(LeakyReLU(alpha=0.1))\n",
    "fashion_model.add(MaxPooling2D((2, 2),padding='same'))\n",
    "fashion_model.add(Conv2D(64, (3, 3), activation='linear',padding='same'))\n",
    "fashion_model.add(LeakyReLU(alpha=0.1))\n",
    "fashion_model.add(MaxPooling2D(pool_size=(2, 2),padding='same'))\n",
    "fashion_model.add(Conv2D(128, (3, 3), activation='linear',padding='same'))\n",
    "fashion_model.add(LeakyReLU(alpha=0.1))                  \n",
    "fashion_model.add(MaxPooling2D(pool_size=(2, 2),padding='same'))\n",
    "fashion_model.add(Flatten())\n",
    "fashion_model.add(Dense(128, activation='linear'))\n",
    "fashion_model.add(LeakyReLU(alpha=0.1))                  \n",
    "fashion_model.add(Dense(num_classes, activation='softmax'))\n"
   ]
  },
  {
   "cell_type": "code",
   "execution_count": 40,
   "id": "a7424e9e",
   "metadata": {},
   "outputs": [
    {
     "name": "stdout",
     "output_type": "stream",
     "text": [
      "Model: \"sequential_3\"\n",
      "_________________________________________________________________\n",
      "Layer (type)                 Output Shape              Param #   \n",
      "=================================================================\n",
      "conv2d_9 (Conv2D)            (None, 28, 28, 32)        320       \n",
      "_________________________________________________________________\n",
      "leaky_re_lu_12 (LeakyReLU)   (None, 28, 28, 32)        0         \n",
      "_________________________________________________________________\n",
      "max_pooling2d_9 (MaxPooling2 (None, 14, 14, 32)        0         \n",
      "_________________________________________________________________\n",
      "conv2d_10 (Conv2D)           (None, 14, 14, 64)        18496     \n",
      "_________________________________________________________________\n",
      "leaky_re_lu_13 (LeakyReLU)   (None, 14, 14, 64)        0         \n",
      "_________________________________________________________________\n",
      "max_pooling2d_10 (MaxPooling (None, 7, 7, 64)          0         \n",
      "_________________________________________________________________\n",
      "conv2d_11 (Conv2D)           (None, 7, 7, 128)         73856     \n",
      "_________________________________________________________________\n",
      "leaky_re_lu_14 (LeakyReLU)   (None, 7, 7, 128)         0         \n",
      "_________________________________________________________________\n",
      "max_pooling2d_11 (MaxPooling (None, 4, 4, 128)         0         \n",
      "_________________________________________________________________\n",
      "flatten_3 (Flatten)          (None, 2048)              0         \n",
      "_________________________________________________________________\n",
      "dense_6 (Dense)              (None, 128)               262272    \n",
      "_________________________________________________________________\n",
      "leaky_re_lu_15 (LeakyReLU)   (None, 128)               0         \n",
      "_________________________________________________________________\n",
      "dense_7 (Dense)              (None, 10)                1290      \n",
      "=================================================================\n",
      "Total params: 356,234\n",
      "Trainable params: 356,234\n",
      "Non-trainable params: 0\n",
      "_________________________________________________________________\n"
     ]
    }
   ],
   "source": [
    "fashion_model.summary()"
   ]
  },
  {
   "cell_type": "code",
   "execution_count": 41,
   "id": "6f45aa11",
   "metadata": {},
   "outputs": [],
   "source": [
    "fashion_model.compile(loss=categorical_crossentropy,\n",
    "                      optimizer=Adam(),\n",
    "                      metrics=['accuracy'])"
   ]
  },
  {
   "cell_type": "code",
   "execution_count": 42,
   "id": "d2c7551c",
   "metadata": {},
   "outputs": [
    {
     "name": "stdout",
     "output_type": "stream",
     "text": [
      "Epoch 1/20\n",
      "750/750 [==============================] - 48s 64ms/step - loss: 0.4598 - accuracy: 0.8322 - val_loss: 0.3306 - val_accuracy: 0.8815\n",
      "Epoch 2/20\n",
      "750/750 [==============================] - 48s 64ms/step - loss: 0.2865 - accuracy: 0.8953 - val_loss: 0.2815 - val_accuracy: 0.8997\n",
      "Epoch 3/20\n",
      "750/750 [==============================] - 45s 60ms/step - loss: 0.2415 - accuracy: 0.9127 - val_loss: 0.2470 - val_accuracy: 0.9087\n",
      "Epoch 4/20\n",
      "750/750 [==============================] - 53s 70ms/step - loss: 0.2086 - accuracy: 0.9224 - val_loss: 0.2462 - val_accuracy: 0.9103\n",
      "Epoch 5/20\n",
      "750/750 [==============================] - 59s 79ms/step - loss: 0.1822 - accuracy: 0.9323 - val_loss: 0.2324 - val_accuracy: 0.9168\n",
      "Epoch 6/20\n",
      "750/750 [==============================] - 56s 75ms/step - loss: 0.1607 - accuracy: 0.9401 - val_loss: 0.2396 - val_accuracy: 0.9172\n",
      "Epoch 7/20\n",
      "750/750 [==============================] - 55s 73ms/step - loss: 0.1380 - accuracy: 0.9479 - val_loss: 0.2334 - val_accuracy: 0.9200\n",
      "Epoch 8/20\n",
      "750/750 [==============================] - 59s 78ms/step - loss: 0.1180 - accuracy: 0.9560 - val_loss: 0.2478 - val_accuracy: 0.9193\n",
      "Epoch 9/20\n",
      "750/750 [==============================] - 57s 75ms/step - loss: 0.1009 - accuracy: 0.9626 - val_loss: 0.2530 - val_accuracy: 0.9238\n",
      "Epoch 10/20\n",
      "750/750 [==============================] - 54s 72ms/step - loss: 0.0850 - accuracy: 0.9680 - val_loss: 0.2709 - val_accuracy: 0.9194\n",
      "Epoch 11/20\n",
      "750/750 [==============================] - 56s 75ms/step - loss: 0.0724 - accuracy: 0.9727 - val_loss: 0.2879 - val_accuracy: 0.9192\n",
      "Epoch 12/20\n",
      "750/750 [==============================] - 63s 85ms/step - loss: 0.0592 - accuracy: 0.9779 - val_loss: 0.3515 - val_accuracy: 0.9106\n",
      "Epoch 13/20\n",
      "750/750 [==============================] - 52s 70ms/step - loss: 0.0542 - accuracy: 0.9793 - val_loss: 0.3755 - val_accuracy: 0.9138\n",
      "Epoch 14/20\n",
      "750/750 [==============================] - 55s 73ms/step - loss: 0.0496 - accuracy: 0.9819 - val_loss: 0.3705 - val_accuracy: 0.9188\n",
      "Epoch 15/20\n",
      "750/750 [==============================] - 60s 80ms/step - loss: 0.0445 - accuracy: 0.9836 - val_loss: 0.3912 - val_accuracy: 0.9176\n",
      "Epoch 16/20\n",
      "750/750 [==============================] - 61s 82ms/step - loss: 0.0397 - accuracy: 0.9857 - val_loss: 0.3813 - val_accuracy: 0.9153\n",
      "Epoch 17/20\n",
      "750/750 [==============================] - 61s 82ms/step - loss: 0.0344 - accuracy: 0.9865 - val_loss: 0.4084 - val_accuracy: 0.9214\n",
      "Epoch 18/20\n",
      "750/750 [==============================] - 66s 88ms/step - loss: 0.0317 - accuracy: 0.9887 - val_loss: 0.4256 - val_accuracy: 0.9183\n",
      "Epoch 19/20\n",
      "750/750 [==============================] - 59s 79ms/step - loss: 0.0329 - accuracy: 0.9880 - val_loss: 0.4628 - val_accuracy: 0.9160\n",
      "Epoch 20/20\n",
      "750/750 [==============================] - 58s 77ms/step - loss: 0.0276 - accuracy: 0.9893 - val_loss: 0.4766 - val_accuracy: 0.9187\n"
     ]
    }
   ],
   "source": [
    "fashion_train = fashion_model.fit(train_X, train_label, \n",
    "                                  batch_size=batch_size,\n",
    "                                  epochs=epochs,\n",
    "                                  verbose=1,\n",
    "                                  validation_data=(valid_X, valid_label))"
   ]
  },
  {
   "cell_type": "code",
   "execution_count": 43,
   "id": "6acb595f",
   "metadata": {},
   "outputs": [],
   "source": [
    "test_eval = fashion_model.evaluate(test_X, test_Y_one_hot, verbose=0)"
   ]
  },
  {
   "attachments": {},
   "cell_type": "markdown",
   "id": "5c09a7cb",
   "metadata": {},
   "source": [
    "We can obsesrve that the training accuracy is increasing over time but the validation accuracy stagnates at epoch 5 more and less and it does not improve at all. "
   ]
  },
  {
   "cell_type": "code",
   "execution_count": 45,
   "id": "99dd7a2a",
   "metadata": {},
   "outputs": [
    {
     "data": {
      "image/png": "[encoded data removed]",
      "text/plain": [
       "<Figure size 432x288 with 1 Axes>"
      ]
     },
     "metadata": {
      "needs_background": "light"
     },
     "output_type": "display_data"
    },
    {
     "data": {
      "image/png": "[encoded data removed]",
      "text/plain": [
       "<Figure size 432x288 with 1 Axes>"
      ]
     },
     "metadata": {
      "needs_background": "light"
     },
     "output_type": "display_data"
    }
   ],
   "source": [
    "accuracy = fashion_train.history['accuracy']\n",
    "val_accuracy = fashion_train.history['val_accuracy']\n",
    "loss = fashion_train.history['loss']\n",
    "val_loss = fashion_train.history['val_loss']\n",
    "epochs = range(len(accuracy))\n",
    "plt.plot(epochs, accuracy, 'bo', label='Training accuracy')\n",
    "plt.plot(epochs, val_accuracy, 'b', label='Validation accuracy')\n",
    "plt.title('Training and validation accuracy')\n",
    "plt.legend()\n",
    "plt.figure()\n",
    "plt.plot(epochs, loss, 'bo', label='Training loss')\n",
    "plt.plot(epochs, val_loss, 'b', label='Validation loss')\n",
    "plt.title('Training and validation loss')\n",
    "plt.legend()\n",
    "plt.show()"
   ]
  },
  {
   "cell_type": "code",
   "execution_count": 46,
   "id": "c6921848",
   "metadata": {},
   "outputs": [],
   "source": [
    "fashion_model = Sequential()\n",
    "fashion_model.add(Conv2D(32, kernel_size=(3, 3),activation='linear',padding='same',input_shape=(28,28,1)))\n",
    "fashion_model.add(LeakyReLU(alpha=0.1))\n",
    "fashion_model.add(MaxPooling2D((2, 2),padding='same'))\n",
    "fashion_model.add(Dropout(0.25))\n",
    "fashion_model.add(Conv2D(64, (3, 3), activation='linear',padding='same'))\n",
    "fashion_model.add(LeakyReLU(alpha=0.1))\n",
    "fashion_model.add(MaxPooling2D(pool_size=(2, 2),padding='same'))\n",
    "fashion_model.add(Dropout(0.25))\n",
    "fashion_model.add(Conv2D(128, (3, 3), activation='linear',padding='same'))\n",
    "fashion_model.add(LeakyReLU(alpha=0.1))                  \n",
    "fashion_model.add(MaxPooling2D(pool_size=(2, 2),padding='same'))\n",
    "fashion_model.add(Dropout(0.4))\n",
    "fashion_model.add(Flatten())\n",
    "fashion_model.add(Dense(128, activation='linear'))\n",
    "fashion_model.add(LeakyReLU(alpha=0.1))           \n",
    "fashion_model.add(Dropout(0.3))\n",
    "fashion_model.add(Dense(num_classes, activation='softmax'))"
   ]
  },
  {
   "cell_type": "code",
   "execution_count": 47,
   "id": "c3ac1d27",
   "metadata": {},
   "outputs": [
    {
     "name": "stdout",
     "output_type": "stream",
     "text": [
      "Model: \"sequential_4\"\n",
      "_________________________________________________________________\n",
      "Layer (type)                 Output Shape              Param #   \n",
      "=================================================================\n",
      "conv2d_12 (Conv2D)           (None, 28, 28, 32)        320       \n",
      "_________________________________________________________________\n",
      "leaky_re_lu_16 (LeakyReLU)   (None, 28, 28, 32)        0         \n",
      "_________________________________________________________________\n",
      "max_pooling2d_12 (MaxPooling (None, 14, 14, 32)        0         \n",
      "_________________________________________________________________\n",
      "dropout (Dropout)            (None, 14, 14, 32)        0         \n",
      "_________________________________________________________________\n",
      "conv2d_13 (Conv2D)           (None, 14, 14, 64)        18496     \n",
      "_________________________________________________________________\n",
      "leaky_re_lu_17 (LeakyReLU)   (None, 14, 14, 64)        0         \n",
      "_________________________________________________________________\n",
      "max_pooling2d_13 (MaxPooling (None, 7, 7, 64)          0         \n",
      "_________________________________________________________________\n",
      "dropout_1 (Dropout)          (None, 7, 7, 64)          0         \n",
      "_________________________________________________________________\n",
      "conv2d_14 (Conv2D)           (None, 7, 7, 128)         73856     \n",
      "_________________________________________________________________\n",
      "leaky_re_lu_18 (LeakyReLU)   (None, 7, 7, 128)         0         \n",
      "_________________________________________________________________\n",
      "max_pooling2d_14 (MaxPooling (None, 4, 4, 128)         0         \n",
      "_________________________________________________________________\n",
      "dropout_2 (Dropout)          (None, 4, 4, 128)         0         \n",
      "_________________________________________________________________\n",
      "flatten_4 (Flatten)          (None, 2048)              0         \n",
      "_________________________________________________________________\n",
      "dense_8 (Dense)              (None, 128)               262272    \n",
      "_________________________________________________________________\n",
      "leaky_re_lu_19 (LeakyReLU)   (None, 128)               0         \n",
      "_________________________________________________________________\n",
      "dropout_3 (Dropout)          (None, 128)               0         \n",
      "_________________________________________________________________\n",
      "dense_9 (Dense)              (None, 10)                1290      \n",
      "=================================================================\n",
      "Total params: 356,234\n",
      "Trainable params: 356,234\n",
      "Non-trainable params: 0\n",
      "_________________________________________________________________\n"
     ]
    }
   ],
   "source": [
    "fashion_model.summary()"
   ]
  },
  {
   "cell_type": "code",
   "execution_count": 53,
   "id": "60eb44c3",
   "metadata": {},
   "outputs": [],
   "source": [
    "batch_size = 64\n",
    "epochs = 20\n",
    "num_classes = 10"
   ]
  },
  {
   "cell_type": "code",
   "execution_count": 54,
   "id": "3b1e3baa",
   "metadata": {},
   "outputs": [],
   "source": [
    "fashion_model.compile(loss=categorical_crossentropy,\n",
    "                      optimizer=Adam(),\n",
    "                      metrics=['accuracy'])"
   ]
  },
  {
   "cell_type": "code",
   "execution_count": 55,
   "id": "4d71baa2",
   "metadata": {},
   "outputs": [
    {
     "name": "stdout",
     "output_type": "stream",
     "text": [
      "Epoch 1/20\n",
      "750/750 [==============================] - 51s 68ms/step - loss: 0.5989 - accuracy: 0.7773 - val_loss: 0.3681 - val_accuracy: 0.8692\n",
      "Epoch 2/20\n",
      "750/750 [==============================] - 52s 70ms/step - loss: 0.3774 - accuracy: 0.8618 - val_loss: 0.3058 - val_accuracy: 0.8900\n",
      "Epoch 3/20\n",
      "750/750 [==============================] - 76s 102ms/step - loss: 0.3293 - accuracy: 0.8785 - val_loss: 0.2978 - val_accuracy: 0.8900\n",
      "Epoch 4/20\n",
      "750/750 [==============================] - 69s 91ms/step - loss: 0.3049 - accuracy: 0.8879 - val_loss: 0.2618 - val_accuracy: 0.9018\n",
      "Epoch 5/20\n",
      "750/750 [==============================] - 55s 74ms/step - loss: 0.2830 - accuracy: 0.8945 - val_loss: 0.2584 - val_accuracy: 0.9053\n",
      "Epoch 6/20\n",
      "750/750 [==============================] - 60s 80ms/step - loss: 0.2678 - accuracy: 0.9008 - val_loss: 0.2401 - val_accuracy: 0.9118\n",
      "Epoch 7/20\n",
      "750/750 [==============================] - 67s 89ms/step - loss: 0.2578 - accuracy: 0.9047 - val_loss: 0.2459 - val_accuracy: 0.9088\n",
      "Epoch 8/20\n",
      "750/750 [==============================] - 65s 87ms/step - loss: 0.2504 - accuracy: 0.9070 - val_loss: 0.2288 - val_accuracy: 0.9137\n",
      "Epoch 9/20\n",
      "750/750 [==============================] - 59s 79ms/step - loss: 0.2408 - accuracy: 0.9099 - val_loss: 0.2322 - val_accuracy: 0.9137\n",
      "Epoch 10/20\n",
      "750/750 [==============================] - 55s 73ms/step - loss: 0.2380 - accuracy: 0.9110 - val_loss: 0.2229 - val_accuracy: 0.9180\n",
      "Epoch 11/20\n",
      "750/750 [==============================] - 56s 75ms/step - loss: 0.2288 - accuracy: 0.9137 - val_loss: 0.2195 - val_accuracy: 0.9193\n",
      "Epoch 12/20\n",
      "750/750 [==============================] - 57s 75ms/step - loss: 0.2235 - accuracy: 0.9167 - val_loss: 0.2253 - val_accuracy: 0.9188\n",
      "Epoch 13/20\n",
      "750/750 [==============================] - 57s 76ms/step - loss: 0.2200 - accuracy: 0.9166 - val_loss: 0.2205 - val_accuracy: 0.9216\n",
      "Epoch 14/20\n",
      "750/750 [==============================] - 55s 73ms/step - loss: 0.2143 - accuracy: 0.9192 - val_loss: 0.2227 - val_accuracy: 0.9219\n",
      "Epoch 15/20\n",
      "750/750 [==============================] - 54s 72ms/step - loss: 0.2102 - accuracy: 0.9194 - val_loss: 0.2150 - val_accuracy: 0.9222\n",
      "Epoch 16/20\n",
      "750/750 [==============================] - 55s 74ms/step - loss: 0.2107 - accuracy: 0.9203 - val_loss: 0.2174 - val_accuracy: 0.9223\n",
      "Epoch 17/20\n",
      "750/750 [==============================] - 55s 73ms/step - loss: 0.2052 - accuracy: 0.9218 - val_loss: 0.2109 - val_accuracy: 0.9234\n",
      "Epoch 18/20\n",
      "750/750 [==============================] - 54s 71ms/step - loss: 0.2038 - accuracy: 0.9230 - val_loss: 0.2174 - val_accuracy: 0.9243\n",
      "Epoch 19/20\n",
      "750/750 [==============================] - 53s 71ms/step - loss: 0.1997 - accuracy: 0.9246 - val_loss: 0.2169 - val_accuracy: 0.9221\n",
      "Epoch 20/20\n",
      "750/750 [==============================] - 54s 72ms/step - loss: 0.1962 - accuracy: 0.9253 - val_loss: 0.2125 - val_accuracy: 0.9242\n"
     ]
    }
   ],
   "source": [
    "fashion_train = fashion_model.fit(train_X, train_label, \n",
    "                                  batch_size=batch_size,\n",
    "                                  epochs=epochs,\n",
    "                                  verbose=1,\n",
    "                                  validation_data=(valid_X, valid_label))"
   ]
  },
  {
   "cell_type": "code",
   "execution_count": 56,
   "id": "191349af",
   "metadata": {},
   "outputs": [
    {
     "name": "stdout",
     "output_type": "stream",
     "text": [
      "WARNING:tensorflow:From /Library/Frameworks/Python.framework/Versions/3.7/lib/python3.7/site-packages/tensorflow/python/ops/resource_variable_ops.py:1817: calling BaseResourceVariable.__init__ (from tensorflow.python.ops.resource_variable_ops) with constraint is deprecated and will be removed in a future version.\n",
      "Instructions for updating:\n",
      "If using Keras pass *_constraint arguments to layers.\n",
      "INFO:tensorflow:Assets written to: fashion_model_dropout.h5py/assets\n"
     ]
    }
   ],
   "source": [
    "fashion_model.save(\"fashion_model_dropout.h5py\")"
   ]
  },
  {
   "cell_type": "code",
   "execution_count": 57,
   "id": "e6575e17",
   "metadata": {},
   "outputs": [
    {
     "name": "stdout",
     "output_type": "stream",
     "text": [
      "313/313 [==============================] - 2s 6ms/step - loss: 0.2228 - accuracy: 0.9213\n",
      "Test loss: 0.22279192507266998\n",
      "Test accuracy: 0.9212999939918518\n"
     ]
    }
   ],
   "source": [
    "test_eval = fashion_model.evaluate(test_X, test_Y_one_hot, verbose=1)\n",
    "print('Test loss:', test_eval[0])\n",
    "print('Test accuracy:', test_eval[1])"
   ]
  },
  {
   "cell_type": "code",
   "execution_count": 58,
   "id": "bf1123a3",
   "metadata": {},
   "outputs": [
    {
     "data": {
      "image/png": "[encoded data removed]",
      "text/plain": [
       "<Figure size 432x288 with 1 Axes>"
      ]
     },
     "metadata": {
      "needs_background": "light"
     },
     "output_type": "display_data"
    },
    {
     "data": {
      "image/png": "[encoded data removed]",
      "text/plain": [
       "<Figure size 432x288 with 1 Axes>"
      ]
     },
     "metadata": {
      "needs_background": "light"
     },
     "output_type": "display_data"
    }
   ],
   "source": [
    "accuracy = fashion_train.history['accuracy']\n",
    "val_accuracy = fashion_train.history['val_accuracy']\n",
    "loss = fashion_train.history['loss']\n",
    "val_loss = fashion_train.history['val_loss']\n",
    "epochs = range(len(accuracy))\n",
    "plt.plot(epochs, accuracy, 'bo', label='Training accuracy')\n",
    "plt.plot(epochs, val_accuracy, 'b', label='Validation accuracy')\n",
    "plt.title('Training and validation accuracy')\n",
    "plt.legend()\n",
    "plt.figure()\n",
    "plt.plot(epochs, loss, 'bo', label='Training loss')\n",
    "plt.plot(epochs, val_loss, 'b', label='Validation loss')\n",
    "plt.title('Training and validation loss')\n",
    "plt.legend()\n",
    "plt.show()"
   ]
  },
  {
   "cell_type": "code",
   "execution_count": 59,
   "id": "856c1164",
   "metadata": {},
   "outputs": [],
   "source": [
    "predicted_classes = fashion_model.predict(test_X)"
   ]
  },
  {
   "cell_type": "code",
   "execution_count": 60,
   "id": "62a6323d",
   "metadata": {},
   "outputs": [],
   "source": [
    "predicted_classes = np.argmax(np.round(predicted_classes),axis=1)"
   ]
  },
  {
   "cell_type": "code",
   "execution_count": 62,
   "id": "e4aaa13a",
   "metadata": {},
   "outputs": [
    {
     "name": "stdout",
     "output_type": "stream",
     "text": [
      "Found 9175 correct labels\n"
     ]
    },
    {
     "data": {
      "image/png": "[encoded data removed]",
      "text/plain": [
       "<Figure size 432x288 with 9 Axes>"
      ]
     },
     "metadata": {
      "needs_background": "light"
     },
     "output_type": "display_data"
    }
   ],
   "source": [
    "correct = np.where(predicted_classes==test_Y)[0]\n",
    "print(\"Found %d correct labels\" % len(correct))\n",
    "for i, correct in enumerate(correct[:9]):\n",
    "    plt.subplot(3,3,i+1)\n",
    "    plt.imshow(test_X[correct].reshape(28,28), cmap='gray', interpolation='none')\n",
    "    plt.title(\"Predicted {}, Class {}\".format(predicted_classes[correct], test_Y[correct]))\n",
    "    plt.tight_layout()"
   ]
  },
  {
   "cell_type": "code",
   "execution_count": 63,
   "id": "45401519",
   "metadata": {},
   "outputs": [
    {
     "name": "stdout",
     "output_type": "stream",
     "text": [
      "              precision    recall  f1-score   support\n",
      "\n",
      "     Class 0       0.77      0.91      0.83      1000\n",
      "     Class 1       0.99      0.99      0.99      1000\n",
      "     Class 2       0.93      0.84      0.88      1000\n",
      "     Class 3       0.93      0.92      0.92      1000\n",
      "     Class 4       0.83      0.93      0.88      1000\n",
      "     Class 5       0.99      0.98      0.99      1000\n",
      "     Class 6       0.83      0.69      0.75      1000\n",
      "     Class 7       0.97      0.96      0.97      1000\n",
      "     Class 8       0.99      0.99      0.99      1000\n",
      "     Class 9       0.96      0.97      0.97      1000\n",
      "\n",
      "    accuracy                           0.92     10000\n",
      "   macro avg       0.92      0.92      0.92     10000\n",
      "weighted avg       0.92      0.92      0.92     10000\n",
      "\n"
     ]
    }
   ],
   "source": [
    "from sklearn.metrics import classification_report\n",
    "target_names = [\"Class {}\".format(i) for i in range(num_classes)]\n",
    "print(classification_report(test_Y, predicted_classes, target_names=target_names))"
   ]
  },
  {
   "cell_type": "code",
   "execution_count": null,
   "id": "f042e3c4",
   "metadata": {},
   "outputs": [],
   "source": []
  }
 ],
 "metadata": {
  "kernelspec": {
   "display_name": "Python 3 (ipykernel)",
   "language": "python",
   "name": "python3"
  },
  "language_info": {
   "codemirror_mode": {
    "name": "ipython",
    "version": 3
   },
   "file_extension": ".py",
   "mimetype": "text/x-python",
   "name": "python",
   "nbconvert_exporter": "python",
   "pygments_lexer": "ipython3",
   "version": "3.9.7"
  }
 },
 "nbformat": 4,
 "nbformat_minor": 5
}
