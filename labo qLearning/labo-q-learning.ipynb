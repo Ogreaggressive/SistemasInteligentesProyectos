{
 "cells": [
  {
   "attachments": {},
   "cell_type": "markdown",
   "id": "852b5650",
   "metadata": {},
   "source": [
    "# Q-Learning - Frozen Lake"
   ]
  },
  {
   "cell_type": "code",
   "execution_count": 1,
   "id": "3ade2414",
   "metadata": {},
   "outputs": [],
   "source": [
    "import numpy as np\n",
    "import gym\n",
    "import random\n",
    "import time\n",
    "from IPython.display import clear_output\n",
    "from matplotlib import pyplot as plot\n",
    "import numpy as np\n",
    "import copy"
   ]
  },
  {
   "attachments": {},
   "cell_type": "markdown",
   "id": "a7f4d347",
   "metadata": {},
   "source": [
    "Create game environment for frozen lake."
   ]
  },
  {
   "cell_type": "code",
   "execution_count": 85,
   "id": "4a110454",
   "metadata": {},
   "outputs": [],
   "source": [
    "env = gym.make(\"FrozenLake-v1\", map_name=\"4x4\", render_mode=\"ansi\", is_slippery=True)\n"
   ]
  },
  {
   "attachments": {},
   "cell_type": "markdown",
   "id": "235d9dec",
   "metadata": {},
   "source": [
    "Render the environment:"
   ]
  },
  {
   "cell_type": "code",
   "execution_count": 121,
   "id": "2b7262b6",
   "metadata": {},
   "outputs": [
    {
     "name": "stdout",
     "output_type": "stream",
     "text": [
      "\n",
      "\u001b[41mS\u001b[0mFFF\n",
      "FHFH\n",
      "FFFH\n",
      "HFFG\n",
      "\n"
     ]
    }
   ],
   "source": [
    "env.reset()\n",
    "print(env.render())"
   ]
  },
  {
   "attachments": {},
   "cell_type": "markdown",
   "id": "e4c8fe21",
   "metadata": {},
   "source": [
    "Get states and actions for the lake."
   ]
  },
  {
   "cell_type": "code",
   "execution_count": 122,
   "id": "a493e502",
   "metadata": {},
   "outputs": [
    {
     "name": "stdout",
     "output_type": "stream",
     "text": [
      "4 16\n"
     ]
    }
   ],
   "source": [
    "action_space_size = env.action_space.n\n",
    "state_space_size = env.observation_space.n\n",
    "\n",
    "print(action_space_size,state_space_size)"
   ]
  },
  {
   "attachments": {},
   "cell_type": "markdown",
   "id": "6a267e53",
   "metadata": {},
   "source": [
    "Move the agent: "
   ]
  },
  {
   "cell_type": "code",
   "execution_count": 123,
   "id": "badb0cc1",
   "metadata": {},
   "outputs": [
    {
     "name": "stdout",
     "output_type": "stream",
     "text": [
      "  (Down)\n",
      "\u001b[41mS\u001b[0mFFF\n",
      "FHFH\n",
      "FFFH\n",
      "HFFG\n",
      "\n"
     ]
    }
   ],
   "source": [
    "state = env.reset()\n",
    "action = env.action_space.sample()\n",
    "new_state, reward, done, truncated, info = env.step(action)\n",
    "clear_output(wait=True)\n",
    "print(env.render())"
   ]
  },
  {
   "attachments": {},
   "cell_type": "markdown",
   "id": "c28cd388",
   "metadata": {},
   "source": [
    "# Complete the code"
   ]
  },
  {
   "attachments": {},
   "cell_type": "markdown",
   "id": "027b99aa",
   "metadata": {},
   "source": [
    "Initialize some parameters."
   ]
  },
  {
   "cell_type": "code",
   "execution_count": 124,
   "id": "353f9f93",
   "metadata": {},
   "outputs": [],
   "source": [
    "num_episodes = 2000\n",
    "max_steps_per_episode = 100\n",
    "\n",
    "learning_rate = 0.2 #empezamos con 0.2\n",
    "discount_rate = 0.95\n",
    "\n",
    "rewards_avg = []\n",
    "\n",
    "q_table = [[0] * 4 for _ in range(8*8)] #para cada cuadro de 8x8 tenemos 4 acciones\n"
   ]
  },
  {
   "attachments": {},
   "cell_type": "markdown",
   "id": "55f0c5e2",
   "metadata": {},
   "source": [
    "Run Q-Learning algorithm:"
   ]
  },
  {
   "cell_type": "code",
   "execution_count": 129,
   "id": "86a797a3",
   "metadata": {},
   "outputs": [
    {
     "name": "stdout",
     "output_type": "stream",
     "text": [
      "average  0\n",
      "average  1\n",
      "average  2\n",
      "average  3\n",
      "average  4\n",
      "average  5\n",
      "average  6\n",
      "average  7\n",
      "average  8\n",
      "average  9\n",
      "average  10\n",
      "average  11\n",
      "average  12\n",
      "average  13\n",
      "average  14\n",
      "average  15\n",
      "average  16\n",
      "average  17\n",
      "average  18\n",
      "average  19\n",
      "average  20\n",
      "average  21\n",
      "average  22\n",
      "average  23\n",
      "average  24\n",
      "average  25\n",
      "average  26\n",
      "average  27\n",
      "average  28\n",
      "average  29\n",
      "average  30\n",
      "average  31\n",
      "average  32\n",
      "average  33\n",
      "average  34\n",
      "average  35\n",
      "average  36\n",
      "average  37\n",
      "average  38\n",
      "average  39\n",
      "average  40\n",
      "average  41\n",
      "average  42\n",
      "average  43\n",
      "average  44\n",
      "average  45\n",
      "average  46\n",
      "average  47\n",
      "average  48\n",
      "average  49\n",
      "average  50\n",
      "average  51\n",
      "average  52\n",
      "average  53\n",
      "average  54\n",
      "average  55\n",
      "average  56\n",
      "average  57\n",
      "average  58\n",
      "average  59\n",
      "average  60\n",
      "average  61\n",
      "average  62\n",
      "average  63\n",
      "average  64\n",
      "average  65\n",
      "average  66\n",
      "average  67\n",
      "average  68\n",
      "average  69\n",
      "average  70\n",
      "average  71\n",
      "average  72\n",
      "average  73\n",
      "average  74\n",
      "average  75\n",
      "average  76\n",
      "average  77\n",
      "average  78\n",
      "average  79\n",
      "average  80\n",
      "average  81\n",
      "average  82\n",
      "average  83\n",
      "average  84\n",
      "average  85\n",
      "average  86\n",
      "average  87\n",
      "average  88\n",
      "average  89\n",
      "average  90\n",
      "average  91\n",
      "average  92\n",
      "average  93\n",
      "average  94\n",
      "average  95\n",
      "average  96\n",
      "average  97\n",
      "average  98\n",
      "average  99\n"
     ]
    }
   ],
   "source": [
    "# This cycle is to calculate the average reward/episodes and its only purpose is to plot the nice graph below that\n",
    "# shows how the agent learn how to maximize the reward.\n",
    "\n",
    "rewards_avg = []\n",
    "for it in range(100):\n",
    "    print('average ', it)\n",
    "    rewards_all_episodes=[]\n",
    "    \n",
    "    # exporation-exploitation trade-off params\n",
    "    exploration_rate = 1\n",
    "    max_exploration_rate = 1\n",
    "    min_exploration_rate = 0.01\n",
    "    exploration_decay_rate = 0.01 #cambiar con el numero de episodios\n",
    "    \n",
    "    q_table = [[0] * 4 for _ in range(8*8)] \n",
    "\n",
    "    # iterate over the episodes\n",
    "    for episode in range(num_episodes):\n",
    "        state = env.reset()[0]\n",
    "        done = False\n",
    "        rewards_current_episode = 0\n",
    "\n",
    "        q_table_copy = copy.deepcopy(q_table)\n",
    "        \n",
    "        # iterate over the steps for an episode\n",
    "        for step in range(max_steps_per_episode):\n",
    "            # Exploration-exploitation trade-off\n",
    "            exploration_rate_threshold = np.random.uniform(0,1)\n",
    "            if exploration_rate_threshold <= exploration_rate:\n",
    "                action = env.action_space.sample() #random entre arriba abajo izquierda derecha\n",
    "            else:\n",
    "                action = np.argmax(q_table_copy[state]) #max\n",
    "            # Take action\n",
    "            new_state, reward, done, truncated, info = env.step(action)\n",
    "            if done == True and reward ==0:\n",
    "                reward -= 1\n",
    "\n",
    "            # Update Q-table for Q(s,a)\n",
    "            q_table[state][action] = (1-learning_rate)*q_table_copy[state][action]+learning_rate*(reward +discount_rate*max(q_table_copy[new_state])) \n",
    "            \n",
    "            # transition next state\n",
    "            state = new_state\n",
    "            rewards_current_episode += reward\n",
    "\n",
    "            if done == True: \n",
    "                break\n",
    "\n",
    "        # Exploration rate decay\n",
    "        exploration_rate = min_exploration_rate + (max_exploration_rate - min_exploration_rate) * np.exp(-exploration_decay_rate * episode)\n",
    "\n",
    "        rewards_all_episodes.append(rewards_current_episode)\n",
    "    rewards_avg.append(rewards_all_episodes)"
   ]
  },
  {
   "cell_type": "code",
   "execution_count": 130,
   "id": "64b37eb4",
   "metadata": {},
   "outputs": [
    {
     "data": {
      "text/plain": [
       "[<matplotlib.lines.Line2D at 0x1fd38b90910>]"
      ]
     },
     "execution_count": 130,
     "metadata": {},
     "output_type": "execute_result"
    },
    {
     "data": {
      "image/png": "[encoded data removed]",
      "text/plain": [
       "<Figure size 640x480 with 1 Axes>"
      ]
     },
     "metadata": {},
     "output_type": "display_data"
    }
   ],
   "source": [
    "\n",
    "x = [i for i in range(0,num_episodes)]\n",
    "y = np.mean(rewards_avg, axis=0)\n",
    "plot.xlabel('Episodes')\n",
    "plot.ylabel('Reward')\n",
    "plot.plot(x, y,'o')\n"
   ]
  },
  {
   "cell_type": "code",
   "execution_count": 97,
   "id": "a640d05c",
   "metadata": {},
   "outputs": [
    {
     "name": "stdout",
     "output_type": "stream",
     "text": [
      "\n",
      "\n",
      "********Q-table********\n",
      "\n",
      "[[0.5454519087727628, 0.40759088031724455, 0.39874339443220985, 0.40196087303614175], [0.14947704980241017, 0.09591800870011624, 0.07668098851396585, 0.38604125047208565], [0.02655399770856355, 0.3348569665772103, 0.042827015635141324, 0.08449350176295906], [0.06066942768939332, 0.0572679737565822, 0.027499217118333277, 0.22530863187479352], [0.600840025550264, 0.32148935863059797, 0.35104670580748043, 0.3071706597497367], [0, 0, 0, 0], [0.27256354984058695, 0.006752175832658924, 0.02904035279445873, 0.005957196629968477], [0, 0, 0, 0], [0.3678279009455409, 0.4423773419449167, 0.39027155122004187, 0.6587975986679289], [0.3983708749358676, 0.6985448802588987, 0.28083501322363663, 0.32067834964174907], [0.6020541092047016, 0.3297251090603943, 0.11014556183167726, 0.15217175371594466], [0, 0, 0, 0], [0, 0, 0, 0], [0.43203946169788143, 0.32625884749545037, 0.8048361855425603, 0.40193515441809285], [0.6836553935611952, 0.9711904239616549, 0.6138754789187714, 0.7746410142290417], [0, 0, 0, 0], [0, 0, 0, 0], [0, 0, 0, 0], [0, 0, 0, 0], [0, 0, 0, 0], [0, 0, 0, 0], [0, 0, 0, 0], [0, 0, 0, 0], [0, 0, 0, 0], [0, 0, 0, 0], [0, 0, 0, 0], [0, 0, 0, 0], [0, 0, 0, 0], [0, 0, 0, 0], [0, 0, 0, 0], [0, 0, 0, 0], [0, 0, 0, 0], [0, 0, 0, 0], [0, 0, 0, 0], [0, 0, 0, 0], [0, 0, 0, 0], [0, 0, 0, 0], [0, 0, 0, 0], [0, 0, 0, 0], [0, 0, 0, 0], [0, 0, 0, 0], [0, 0, 0, 0], [0, 0, 0, 0], [0, 0, 0, 0], [0, 0, 0, 0], [0, 0, 0, 0], [0, 0, 0, 0], [0, 0, 0, 0], [0, 0, 0, 0], [0, 0, 0, 0], [0, 0, 0, 0], [0, 0, 0, 0], [0, 0, 0, 0], [0, 0, 0, 0], [0, 0, 0, 0], [0, 0, 0, 0], [0, 0, 0, 0], [0, 0, 0, 0], [0, 0, 0, 0], [0, 0, 0, 0], [0, 0, 0, 0], [0, 0, 0, 0], [0, 0, 0, 0], [0, 0, 0, 0]]\n"
     ]
    }
   ],
   "source": [
    "# Print updated Q-table\n",
    "print(\"\\n\\n********Q-table********\\n\")\n",
    "print(q_table)"
   ]
  },
  {
   "attachments": {},
   "cell_type": "markdown",
   "id": "92c22839",
   "metadata": {},
   "source": [
    "watch it play!"
   ]
  },
  {
   "cell_type": "code",
   "execution_count": 102,
   "id": "ed17163f",
   "metadata": {},
   "outputs": [
    {
     "name": "stdout",
     "output_type": "stream",
     "text": [
      "****You reached the goal!****\n"
     ]
    }
   ],
   "source": [
    "for episode in range(3):\n",
    "    state = env.reset()[0]\n",
    "    done = False\n",
    "    print(\"*****EPISODE \", episode+1, \"*****\\n\\n\\n\\n\")\n",
    "    time.sleep(1)\n",
    "    \n",
    "    for step in range(max_steps_per_episode):        \n",
    "        clear_output(wait=True)\n",
    "        env.render()\n",
    "        time.sleep(0.3)\n",
    "        \n",
    "        action = np.argmax(q_table[state])        \n",
    "        new_state, reward, done, truncated, info = env.step(action)\n",
    "        \n",
    "        print(env.render())\n",
    "        if done:\n",
    "            clear_output(wait=True)\n",
    "            \n",
    "            if reward == 1:\n",
    "                print(\"****You reached the goal!****\")\n",
    "                time.sleep(3)\n",
    "            else:\n",
    "                print(\"****You fell through a hole!****\")\n",
    "                time.sleep(3)\n",
    "                clear_output(wait=True)\n",
    "            break\n",
    "            \n",
    "        state = new_state\n",
    "        env.close()"
   ]
  },
  {
   "attachments": {},
   "cell_type": "markdown",
   "id": "77496021",
   "metadata": {},
   "source": [
    "# Answer these questions\n",
    "\n",
    "Answer the following questions running the necessary experiments if necessary:\n",
    "- What the env.step(action) does? \n",
    "- How is the agent rewarded? why?\n",
    "- What is the q_table matrix for? \n",
    "- What is an optimal policy for this specific place? (needs experiments)\n",
    "- What happen if we modify the exploration_decay_rate parameter? what does it do? (needs experiments)\n",
    "- What is the discount_rate and learning_rate for? what happen if we modify those? (needs experiments)\n",
    "- What happen if we remove the first cycle in the code: for it in range(100)? what is their purpose? \n",
    "- What is the is_slippery property does? What if we remove the slippery property (is_slippery=False) in the environment? Do we still need RL to solve this problem? why?\n",
    "- Can you explain in your own words what the last block of code does?"
   ]
  },
  {
   "attachments": {},
   "cell_type": "markdown",
   "id": "270ae68c",
   "metadata": {},
   "source": [
    "What the env.step(action) does? \n",
    "\n",
    "Esto realiza una accion de los estados que tenemos, puede ser izquierda, arriba, abajo y derecha. Luego nos muestra el estado:\n",
    "new_state, reward, done, truncated, info siendo new_state el proximo estado, reward si logro llegar a la meta, done si termino llegando a la meta o cayendo a un hoyo. Truncated para que funcione como los iniciamos."
   ]
  },
  {
   "attachments": {},
   "cell_type": "markdown",
   "id": "490a2ef3",
   "metadata": {},
   "source": [
    "How is the agent rewarded? why?\n",
    "\n",
    "Cuando llega a la meta consigue 1 punto al terminar, si cae a un hoyo aumenté para que su reward baje, esto sucede en cada episodio donde podremos calcular el reward que consigue cada intento."
   ]
  },
  {
   "attachments": {},
   "cell_type": "markdown",
   "id": "a1368668",
   "metadata": {},
   "source": [
    "What is the q_table matrix for? \n",
    "\n",
    "para revisar todas las posiciones de la matriz que estamos creando, esta puede ser de 4x4 o de 8x8 tendriamos que crear una matriz de 16 o de 64 espacios para cada lugar que se pueda encontrar el jugador y las posiciones que podria conseguir, de aqui conseguimos el mejor valor en una posicion que nos acerque a la meta."
   ]
  },
  {
   "attachments": {},
   "cell_type": "markdown",
   "id": "ecec266a",
   "metadata": {},
   "source": [
    "What is an optimal policy for this specific place? (needs experiments)\n",
    "\n",
    "la q_table que tenemos en nuestro experimento en la parte de arriba es la mejor qtable que se logró analizar. En un cuadro 4x4 lo que hace es bajar 2 cuadros, moverse a la derecha 2 cuadros, baja 1 y otra vez a la derecha 1 cuadro, se dio cuenta que ir a la izquierda o arriba no nos da resultados eficaces y no son las mejores acciones para este ejercicio."
   ]
  },
  {
   "attachments": {},
   "cell_type": "markdown",
   "id": "70106f0d",
   "metadata": {},
   "source": [
    "What happen if we modify the exploration_decay_rate parameter? what does it do? (needs experiments)\n",
    "\n",
    "Esto va a cambiar la cantidad de veces que entra a explorar en vez de explotar, esto deberia ser distinto dependiendo de la cantidad de episodios que tengamos porque mientras mas avancemos porcentualmente en nuestros episodios mas deberia ser la cantidad de explotaciones que haya y menos la cantidad de exploracion que se haga."
   ]
  },
  {
   "attachments": {},
   "cell_type": "markdown",
   "id": "6f4c9bab",
   "metadata": {},
   "source": [
    "What is the discount_rate and learning_rate for? what happen if we modify those? (needs experiments)\n",
    "\n",
    "Discount rate determina si el agente se enfoca mas en rewards inmediatos o futuros, si el discount rate tiende a 1 hara jugadas que sean mejor que solamente la jugada siguiente. El learning rate nos da en que medida cambia nuestra Q table mientras vamos avanzando el entrenamiento. Mientras mayor el learning rate mayor sera la proporcion que los nuevos valores se mezclan con valores existentes en nuestra qtable."
   ]
  },
  {
   "attachments": {},
   "cell_type": "markdown",
   "id": "628fe7f6",
   "metadata": {},
   "source": [
    "What happen if we remove the first cycle in the code: for it in range(100)? what is their purpose? \n",
    "\n",
    "Solo se entrenara una vez, por lo que no tendremos un average del entrenamiento de los episodios para conseguir un resultado mas exacto del que estariamos sacando haciendo correr los episodios una vez."
   ]
  },
  {
   "attachments": {},
   "cell_type": "markdown",
   "id": "02dc42d7",
   "metadata": {},
   "source": [
    "What is the is_slippery property does? What if we remove the slippery property (is_slippery=False) in the environment? Do we still need RL to solve this problem? why?\n",
    "\n",
    "Sin is_slippery en este ejercicio al entrar a un hueco no nos resbalariamos y por ende seria como un ejercicio BFS donde se busca la mejor manera de llegar de un lado a otro sin tomar en cuenta que hay lugares que estadisticamente serian perjudiciales, en este caso no necesitariamos RL para resolverlo ya que tenemos otros agentes como BFS que hacen lo mismo que lo que haria un RL."
   ]
  },
  {
   "attachments": {},
   "cell_type": "markdown",
   "id": "c4614c36",
   "metadata": {},
   "source": [
    "Can you explain in your own words what the last block of code does?\n",
    "\n",
    "tenemos nuestro env entrenado y lo que hacemos es hacerlo jugar eligiendo un env.step que consigue de su q_table despues del entrenamiento, por lo que si esta bien entrenado lograra llegar a la meta y tendremos el mensaje you reached the goal, sino tenemos 2 opciones, sino llega en 100 movidas solamente entra al siguiente episodio y sino termina con you fell through a hole si caemos en un hoyo."
   ]
  }
 ],
 "metadata": {
  "kernelspec": {
   "display_name": "Python 3 (ipykernel)",
   "language": "python",
   "name": "python3"
  },
  "language_info": {
   "codemirror_mode": {
    "name": "ipython",
    "version": 3
   },
   "file_extension": ".py",
   "mimetype": "text/x-python",
   "name": "python",
   "nbconvert_exporter": "python",
   "pygments_lexer": "ipython3",
   "version": "3.11.2"
  }
 },
 "nbformat": 4,
 "nbformat_minor": 5
}
